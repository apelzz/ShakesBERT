{
 "cells": [
  {
   "attachments": {},
   "cell_type": "markdown",
   "metadata": {},
   "source": [
    "Can try the following examples for demo:\n",
    "\n",
    "```\n",
    "!python 'demo.py' \\\n",
    "    -mi 'speaking of worth , what worth in you doth _ this silence for my sin you did impute' \\\n",
    "    -t 'grow' \\\n",
    "\n",
    "!python 'demo.py' \\\n",
    "    -mi 'laid by his side his heart-inflaming _ whilst many nymphs that vow 'd chaste life to keep' \\\n",
    "    -t 'brand' \\\n",
    "\n",
    "!python 'demo.py' \\\n",
    "    -mi 'laid by his side his heart-inflaming _ whilst many nymphs that vow 'd chaste life to keep' \\\n",
    "    -t 'brand' \\\n",
    "\n",
    "!python 'demo.py' \\\n",
    "    -mi 'and the firm soil win of the watery _ increasing store with loss , and loss with store' \\\n",
    "    -t 'main' \\\n",
    "```"
   ]
  },
  {
   "cell_type": "code",
   "execution_count": 2,
   "metadata": {},
   "outputs": [
    {
     "name": "stdout",
     "output_type": "stream",
     "text": [
      "Some weights of the model checkpoint at bert-base-uncased were not used when initializing BertForMaskedLM: ['cls.seq_relationship.bias', 'cls.seq_relationship.weight']\n",
      "- This IS expected if you are initializing BertForMaskedLM from the checkpoint of a model trained on another task or with another architecture (e.g. initializing a BertForSequenceClassification model from a BertForPreTraining model).\n",
      "- This IS NOT expected if you are initializing BertForMaskedLM from the checkpoint of a model that you expect to be exactly identical (initializing a BertForSequenceClassification model from a BertForSequenceClassification model).\n",
      "\n",
      "=========DEMO RESULTS=========\n",
      "For the input verses: 'There lives more life in one of your fair _ Than both your poets can in praise devise.',\n",
      "The target word is 'eyes'.\n",
      "The top 5 predictions are: ['children', 'daughters', 'folk', 'men', 'ladies'].\n"
     ]
    }
   ],
   "source": [
    "!python 'demo.py' \\\n",
    "    -mi 'There lives more life in one of your fair _ Than both your poets can in praise devise.' \\\n",
    "    -t 'eyes' \\\n",
    "    -k 5 \\\n",
    "    -mp 'bert-base-uncased' # Change to our best model"
   ]
  }
 ],
 "metadata": {
  "kernelspec": {
   "display_name": "torch-gpu",
   "language": "python",
   "name": "python3"
  },
  "language_info": {
   "codemirror_mode": {
    "name": "ipython",
    "version": 3
   },
   "file_extension": ".py",
   "mimetype": "text/x-python",
   "name": "python",
   "nbconvert_exporter": "python",
   "pygments_lexer": "ipython3",
   "version": "3.10.9"
  },
  "orig_nbformat": 4
 },
 "nbformat": 4,
 "nbformat_minor": 2
}
