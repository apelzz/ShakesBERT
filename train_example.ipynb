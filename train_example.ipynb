{
 "cells": [
  {
   "cell_type": "code",
   "execution_count": 1,
   "id": "e3a2b5c3",
   "metadata": {},
   "outputs": [],
   "source": [
    "from datasets import load_dataset\n",
    "import os\n",
    "import torch\n",
    "from transformers import BertTokenizer\n",
    "\n",
    "TEST_FOLDER_PATH = \"data/test_data_processed\"\n",
    "TRAIN_FOLDER_PATH = \"data/train_data_processed\"\n",
    "\n",
    "def load_test_data():\n",
    "    \"\"\"\n",
    "    Helper function to load test data into a dictionary\n",
    "    Pass **output_dict to BERT model\n",
    "    \"\"\"\n",
    "    input_ids = torch.load(os.path.join(TEST_FOLDER_PATH, 'test_input_ids.pt'))\n",
    "    attention_mask = torch.load(os.path.join(TEST_FOLDER_PATH, 'test_attention_mask.pt'))\n",
    "    token_type_ids = torch.load(os.path.join(TEST_FOLDER_PATH, 'test_token_type_ids.pt'))\n",
    "    # labels = torch.load(os.path.join(TEST_FOLDER_PATH, 'test_labels.pt'))\n",
    "    \n",
    "    return {\n",
    "        'input_ids':input_ids, \n",
    "        'attention_mask': attention_mask, \n",
    "        'token_type_ids': token_type_ids, \n",
    "        # 'labels': labels\n",
    "    }\n",
    "\n",
    "def load_test_target_words():\n",
    "    \"\"\" Helper function to load ground truth target words for testing \"\"\"\n",
    "    with open(os.path.join(TEST_FOLDER_PATH, 'test_last_words.txt'), 'r') as f:\n",
    "        target_words = f.read().splitlines()\n",
    "    return target_words\n",
    "\n",
    "def load_train_eval_data(train_type, train_prop=.75):\n",
    "    \"\"\"\n",
    "    Helper function to load and split train/eval data as TensorDatasets\n",
    "\n",
    "    In the datasets, \n",
    "        1st col = `input_ids` (to be masked by a data_collator)\n",
    "        2nd col = `token_type_ids`\n",
    "        3rd col = `attention_mask`\n",
    "        4th col = `labels` (ground truths)\n",
    "    \n",
    "    Can be passed as values for transformers.Trainer(train_dataset=xxx, val_dataset=xxx).\n",
    "\n",
    "    Args:\n",
    "        train_type (str): Type of training (determines relevant data file name).\n",
    "        train_prop (float): Proportion of training data out of the entire dataset.\n",
    "                            Val data will take up (1-`train_prop`) of the original dataset. \n",
    "    Returns:\n",
    "        train_set (Dataset): Training set in Hugging Face dataset format\n",
    "        val_set (Dataset): Training set in Hugging Face dataset format\n",
    "    \"\"\"\n",
    "    # Load processed \"prev verse + next verse\" texts\n",
    "    full_texts = load_dataset(\"text\", data_files=os.path.join(TRAIN_FOLDER_PATH, f\"{train_type}_train_lines.txt\"))\n",
    "\n",
    "    # Tokenize the processed texts\n",
    "    tokenizer = BertTokenizer.from_pretrained('bert-base-uncased')\n",
    "    tokenized_texts = full_texts.map(\n",
    "        lambda x: tokenizer(x[\"text\"], max_length=60, padding='max_length', truncation=True), \n",
    "        batched=True, \n",
    "        remove_columns=[\"text\"]\n",
    "    )\n",
    "\n",
    "    # Duplicate the `input_ids` column (will be masked) to create `labels` (ground truths)\n",
    "    def add_labels(x):\n",
    "        x['labels'] = x['input_ids'].copy()\n",
    "        return x\n",
    "    labeled_texts = tokenized_texts.map(add_labels, batched=True)\n",
    "\n",
    "    # Make the dataset compatible with torch formats (i.e., convert to tensors)\n",
    "    torch_texts = labeled_texts.with_format(\"torch\")\n",
    "\n",
    "    # Do train-val split and return\n",
    "    split_texts = torch_texts['train'].train_test_split(train_size=train_prop)\n",
    "    return split_texts['train'], split_texts['test']\n",
    "\n"
   ]
  },
  {
   "cell_type": "code",
   "execution_count": 4,
   "id": "b4936985",
   "metadata": {},
   "outputs": [
    {
     "name": "stderr",
     "output_type": "stream",
     "text": [
      "Found cached dataset text (C:/Users/Shaobo Liang/.cache/huggingface/datasets/text/default-f8e57489f1a94737/0.0.0/cb1e9bd71a82ad27976be3b12b407850fe2837d80c22c5e03a28949843a8ace2)\n"
     ]
    },
    {
     "data": {
      "application/vnd.jupyter.widget-view+json": {
       "model_id": "bd002deca7c2421f99fef697b198ccfc",
       "version_major": 2,
       "version_minor": 0
      },
      "text/plain": [
       "  0%|          | 0/1 [00:00<?, ?it/s]"
      ]
     },
     "metadata": {},
     "output_type": "display_data"
    },
    {
     "name": "stderr",
     "output_type": "stream",
     "text": [
      "Loading cached processed dataset at C:\\Users\\Shaobo Liang\\.cache\\huggingface\\datasets\\text\\default-f8e57489f1a94737\\0.0.0\\cb1e9bd71a82ad27976be3b12b407850fe2837d80c22c5e03a28949843a8ace2\\cache-937f1637ed85bf6f.arrow\n",
      "Loading cached processed dataset at C:\\Users\\Shaobo Liang\\.cache\\huggingface\\datasets\\text\\default-f8e57489f1a94737\\0.0.0\\cb1e9bd71a82ad27976be3b12b407850fe2837d80c22c5e03a28949843a8ace2\\cache-99df46b8f2a33063.arrow\n",
      "Loading cached split indices for dataset at C:\\Users\\Shaobo Liang\\.cache\\huggingface\\datasets\\text\\default-f8e57489f1a94737\\0.0.0\\cb1e9bd71a82ad27976be3b12b407850fe2837d80c22c5e03a28949843a8ace2\\cache-fa80f177049e6cb9.arrow and C:\\Users\\Shaobo Liang\\.cache\\huggingface\\datasets\\text\\default-f8e57489f1a94737\\0.0.0\\cb1e9bd71a82ad27976be3b12b407850fe2837d80c22c5e03a28949843a8ace2\\cache-ea871f09751aea53.arrow\n",
      "Some weights of the model checkpoint at bert-base-uncased were not used when initializing BertForMaskedLM: ['cls.seq_relationship.bias', 'cls.seq_relationship.weight']\n",
      "- This IS expected if you are initializing BertForMaskedLM from the checkpoint of a model trained on another task or with another architecture (e.g. initializing a BertForSequenceClassification model from a BertForPreTraining model).\n",
      "- This IS NOT expected if you are initializing BertForMaskedLM from the checkpoint of a model that you expect to be exactly identical (initializing a BertForSequenceClassification model from a BertForSequenceClassification model).\n",
      "F:\\Programs\\anaconda3\\lib\\site-packages\\transformers\\optimization.py:391: FutureWarning: This implementation of AdamW is deprecated and will be removed in a future version. Use the PyTorch implementation torch.optim.AdamW instead, or set `no_deprecation_warning=True` to disable this warning\n",
      "  warnings.warn(\n"
     ]
    },
    {
     "data": {
      "text/html": [
       "\n",
       "    <div>\n",
       "      \n",
       "      <progress value='5865' max='5865' style='width:300px; height:20px; vertical-align: middle;'></progress>\n",
       "      [5865/5865 07:59, Epoch 3/3]\n",
       "    </div>\n",
       "    <table border=\"1\" class=\"dataframe\">\n",
       "  <thead>\n",
       " <tr style=\"text-align: left;\">\n",
       "      <th>Epoch</th>\n",
       "      <th>Training Loss</th>\n",
       "      <th>Validation Loss</th>\n",
       "    </tr>\n",
       "  </thead>\n",
       "  <tbody>\n",
       "    <tr>\n",
       "      <td>1</td>\n",
       "      <td>4.584900</td>\n",
       "      <td>3.717442</td>\n",
       "    </tr>\n",
       "    <tr>\n",
       "      <td>2</td>\n",
       "      <td>3.495100</td>\n",
       "      <td>3.563942</td>\n",
       "    </tr>\n",
       "    <tr>\n",
       "      <td>3</td>\n",
       "      <td>3.731300</td>\n",
       "      <td>3.527672</td>\n",
       "    </tr>\n",
       "  </tbody>\n",
       "</table><p>"
      ],
      "text/plain": [
       "<IPython.core.display.HTML object>"
      ]
     },
     "metadata": {},
     "output_type": "display_data"
    }
   ],
   "source": [
    "import torch\n",
    "from transformers import BertTokenizer, BertForMaskedLM, DataCollatorForLanguageModeling, Trainer, TrainingArguments\n",
    "\n",
    "# Replace these lists with your actual dataset\n",
    "# sentences = [\"This is an example sentence from my domain.\", \"Another example sentence from my domain.\"]\n",
    "from utils import load_train_eval_data\n",
    "\n",
    "# Among the original training data, 75% is used for training, 25% is used for validation\n",
    "train_prop = 0.75\n",
    "\n",
    "# Set the fine-tuning type \n",
    "train_type = \"sonnets\" # One of [\"sonnets\", \"shakestrain\", \"poems\"]\n",
    "\n",
    "train_set, val_set = load_train_eval_data(train_type, train_prop)\n",
    "\n",
    "# Load the tokenizer and the pre-trained model\n",
    "tokenizer = BertTokenizer.from_pretrained(\"bert-base-uncased\")\n",
    "model = BertForMaskedLM.from_pretrained(\"bert-base-uncased\")\n",
    "\n",
    "# Set up the data collator\n",
    "data_collator = DataCollatorForLanguageModeling(\n",
    "    tokenizer=tokenizer, mlm=True, mlm_probability=0.15\n",
    ")\n",
    "\n",
    "# Set up the training arguments\n",
    "training_args = TrainingArguments(\n",
    "    output_dir=\"./results\",\n",
    "    evaluation_strategy=\"epoch\",\n",
    "    num_train_epochs=3,\n",
    "    per_device_train_batch_size=16,\n",
    "    logging_dir=\"./logs\",\n",
    "    logging_steps=1,\n",
    "    save_steps=100,\n",
    "    seed=42,\n",
    "    learning_rate=2e-5,\n",
    "    weight_decay=0.01,\n",
    ")\n",
    "\n",
    "\n",
    "# Create the Trainer instance\n",
    "trainer = Trainer(\n",
    "    model=model,\n",
    "    args=training_args,\n",
    "    train_dataset=train_set,\n",
    "    eval_dataset=val_set,\n",
    "    data_collator=data_collator,\n",
    ")\n",
    "\n",
    "# Fine-tune the model\n",
    "trainer.train()\n",
    "\n",
    "torch.save(model, \"model.pth\")"
   ]
  },
  {
   "cell_type": "code",
   "execution_count": 9,
   "id": "04f6e3b2",
   "metadata": {},
   "outputs": [],
   "source": [
    "output_dir = \"./saved_model\"\n",
    "model.save_pretrained(output_dir)"
   ]
  },
  {
   "cell_type": "code",
   "execution_count": 14,
   "id": "e16f8ca9",
   "metadata": {},
   "outputs": [
    {
     "name": "stdout",
     "output_type": "stream",
     "text": [
      "Top 5 accuracy is 0.13941018766756033.\n",
      "Top 5 cosine similarity score is 0.42201218008995056.\n"
     ]
    }
   ],
   "source": [
    "from test import test_main\n",
    "\n",
    "# model_path = \"model.pth\"\n",
    "model_path = \"./results/checkpoint-1000/\"\n",
    "# model_path = \"./saved_model/\"\n",
    "\n",
    "k = 5 # I want top 5 test metrics\n",
    "\n",
    "results_dict = test_main(model_path, k)\n",
    "\n",
    "print(f\"Top {k} accuracy is {results_dict['accuracy']}.\")\n",
    "print(f\"Top {k} cosine similarity score is {results_dict['cos_sim']}.\")\n",
    "# print(f\"Top {k} rhyming score is {results_dict[\"rhyme\"]}.\") # To be implemented"
   ]
  }
 ],
 "metadata": {
  "kernelspec": {
   "display_name": "Python 3 (ipykernel)",
   "language": "python",
   "name": "python3"
  },
  "language_info": {
   "codemirror_mode": {
    "name": "ipython",
    "version": 3
   },
   "file_extension": ".py",
   "mimetype": "text/x-python",
   "name": "python",
   "nbconvert_exporter": "python",
   "pygments_lexer": "ipython3",
   "version": "3.9.13"
  }
 },
 "nbformat": 4,
 "nbformat_minor": 5
}
