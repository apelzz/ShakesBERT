{
 "cells": [
  {
   "cell_type": "code",
   "execution_count": 2,
   "id": "2fcdba25",
   "metadata": {},
   "outputs": [],
   "source": [
    "\"\"\"\n",
    "Merges each line of training data with corresponding syllabic information\n",
    "Add '_' in between text and syllables to mark relative positions\n",
    "\"\"\"\n",
    "\n",
    "import os\n",
    "\n",
    "TRAIN_FOLDER_PATH = \"./train_data_processed\"\n",
    "TRAIN_TYPE = \"shakestrain\" # MODIFY THIS, can be ['sonnets', 'shakestrain']\n",
    "\n",
    "TEXT_PATH = os.path.join(TRAIN_FOLDER_PATH, f\"{TRAIN_TYPE}_train_lines.txt\")\n",
    "SYL_PATH = os.path.join(TRAIN_FOLDER_PATH, f\"{TRAIN_TYPE}_train_syllables.txt\")\n",
    "\n",
    "combined = []\n",
    "with open(TEXT_PATH, 'r', encoding='utf-8') as texts, open(SYL_PATH, 'r', encoding='utf-8') as syls:\n",
    "    for text, syl in zip(texts, syls):\n",
    "        new_line = text.strip() + ' _ ' + syl.strip() # Underscore is a placeholder to locate position of the syllabic info\n",
    "        combined.append(new_line)\n",
    "\n",
    "# Save the lines for multimodal training (prev verse + next verse + corresponding syllabic info) \n",
    "with open(os.path.join(TRAIN_FOLDER_PATH, f\"{TRAIN_TYPE}_train_textsyl.txt\"), 'w') as f:\n",
    "    for line in combined:\n",
    "        f.write(f\"{line}\\n\")"
   ]
  }
 ],
 "metadata": {
  "kernelspec": {
   "display_name": "Python 3 (ipykernel)",
   "language": "python",
   "name": "python3"
  },
  "language_info": {
   "codemirror_mode": {
    "name": "ipython",
    "version": 3
   },
   "file_extension": ".py",
   "mimetype": "text/x-python",
   "name": "python",
   "nbconvert_exporter": "python",
   "pygments_lexer": "ipython3",
   "version": "3.9.13"
  }
 },
 "nbformat": 4,
 "nbformat_minor": 5
}
