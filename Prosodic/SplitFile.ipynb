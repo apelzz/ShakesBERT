{
 "cells": [
  {
   "cell_type": "code",
   "execution_count": 30,
   "id": "c1e7f5a0",
   "metadata": {},
   "outputs": [],
   "source": [
    "# Splitting sonnets\n",
    "\n",
    "from itertools import zip_longest\n",
    "\n",
    "def grouper(n, iterable, fillvalue=None):\n",
    "    \"Collect data into fixed-length chunks or blocks\"\n",
    "    # grouper(3, 'ABCDEFG', 'x') --> ABC DEF Gxx\n",
    "    args = [iter(iterable)] * n\n",
    "    return zip_longest(fillvalue=fillvalue, *args)\n",
    "\n",
    "n = 1000\n",
    "\n",
    "\n",
    "with open(\"./train_data_processed/sonnets_train_lines.txt\", \"r\", encoding = \"utf-8\") as f:\n",
    "    for i, g in enumerate(grouper(n, f, fillvalue=''), 1):\n",
    "        with open('./train_data_processed/sonnets_train_split/sonnets_train_lines_{0}.txt'.format(i), 'w', encoding = \"utf-8\") as fout:\n",
    "            fout.writelines(g)\n",
    "#         try:\n",
    "#             with open('./train_data_processed/sonnets_train_split/sonnets_train_lines_{0}'.format(i), 'w') as fout:\n",
    "#                 fout.writelines(g)\n",
    "#         except:\n",
    "#             print(f\"bad codec in these lines: {i} thousand\")"
   ]
  },
  {
   "cell_type": "code",
   "execution_count": 34,
   "id": "4d94c0db",
   "metadata": {},
   "outputs": [],
   "source": [
    "# Splitting poems\n",
    "\n",
    "from itertools import zip_longest\n",
    "\n",
    "def grouper(n, iterable, fillvalue=None):\n",
    "    \"Collect data into fixed-length chunks or blocks\"\n",
    "    # grouper(3, 'ABCDEFG', 'x') --> ABC DEF Gxx\n",
    "    args = [iter(iterable)] * n\n",
    "    return zip_longest(fillvalue=fillvalue, *args)\n",
    "\n",
    "n = 1000\n",
    "\n",
    "with open(\"./train_data_processed/poems_train_lines.txt\", \"r\", encoding = \"utf-8\") as f:\n",
    "    for i, g in enumerate(grouper(n, f, fillvalue=''), 1):\n",
    "        with open('./train_data_processed/poems_train_split/poems_train_lines_{0}.txt'.format(i), 'w', encoding = \"utf-8\") as fout:\n",
    "            fout.writelines(g)\n"
   ]
  }
 ],
 "metadata": {
  "kernelspec": {
   "display_name": "Python 3 (ipykernel)",
   "language": "python",
   "name": "python3"
  },
  "language_info": {
   "codemirror_mode": {
    "name": "ipython",
    "version": 3
   },
   "file_extension": ".py",
   "mimetype": "text/x-python",
   "name": "python",
   "nbconvert_exporter": "python",
   "pygments_lexer": "ipython3",
   "version": "3.9.13"
  }
 },
 "nbformat": 4,
 "nbformat_minor": 5
}
